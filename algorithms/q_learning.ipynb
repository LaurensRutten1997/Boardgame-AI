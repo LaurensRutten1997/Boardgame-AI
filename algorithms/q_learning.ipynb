{
 "cells": [
  {
   "cell_type": "markdown",
   "id": "1dbf4311",
   "metadata": {},
   "source": [
    "# Q-Learning"
   ]
  },
  {
   "cell_type": "code",
   "execution_count": 1,
   "id": "cdfcf4b4",
   "metadata": {},
   "outputs": [],
   "source": [
    "import os\n",
    "import sys\n",
    "\n",
    "cwd = os.getcwd()\n",
    "\n",
    "parentdir = os.path.dirname(cwd)\n",
    "sys.path.insert(0, parentdir)\n",
    "\n",
    "from environments.tic_tac_toe.tic_tac_toe import TicTacToe\n",
    "from environments.game import PlayRoom"
   ]
  },
  {
   "cell_type": "code",
   "execution_count": null,
   "id": "27f2aece",
   "metadata": {},
   "outputs": [],
   "source": [
    "playroom = PlayRoom(game = TicTacToe())\n"
   ]
  }
 ],
 "metadata": {
  "kernelspec": {
   "display_name": "Python 3",
   "language": "python",
   "name": "python3"
  },
  "language_info": {
   "codemirror_mode": {
    "name": "ipython",
    "version": 3
   },
   "file_extension": ".py",
   "mimetype": "text/x-python",
   "name": "python",
   "nbconvert_exporter": "python",
   "pygments_lexer": "ipython3",
   "version": "3.10.4"
  }
 },
 "nbformat": 4,
 "nbformat_minor": 5
}
