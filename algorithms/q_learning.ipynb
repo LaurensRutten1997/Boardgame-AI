{
 "cells": [
  {
   "cell_type": "markdown",
   "id": "1dbf4311",
   "metadata": {},
   "source": [
    "# Q-Learning"
   ]
  },
  {
   "cell_type": "code",
   "execution_count": 1,
   "id": "cdfcf4b4",
   "metadata": {},
   "outputs": [],
   "source": [
    "import os\n",
    "import random\n",
    "import sys\n",
    "\n",
    "cwd = os.getcwd()\n",
    "\n",
    "parentdir = os.path.dirname(cwd)\n",
    "sys.path.insert(0, parentdir)\n",
    "\n",
    "from environments.tic_tac_toe.tic_tac_toe import TicTacToe\n",
    "from environments.game import PlayRoom"
   ]
  },
  {
   "cell_type": "code",
   "execution_count": 2,
   "id": "27f2aece",
   "metadata": {},
   "outputs": [],
   "source": [
    "playroom = PlayRoom(game = TicTacToe())\n",
    "\n",
    "class Transistion():\n",
    "  def __init__(self, state_code: str, action: int, reward: int, next_state_code: str):\n",
    "    self.state_code = state_code\n",
    "    self.action = action\n",
    "    self.next_state_code = next_state_code\n",
    "    self.reward = reward"
   ]
  },
  {
   "cell_type": "code",
   "execution_count": 3,
   "id": "f7a59fab",
   "metadata": {},
   "outputs": [],
   "source": [
    "##EPSILON STILL NEEDED\n",
    "\n",
    "class QLearning():\n",
    "  def __init__(self, learning_rate: float, discount_factor: float, epsilon: float):\n",
    "    self.Q_table = {}\n",
    "    self.playroom = PlayRoom(game = TicTacToe())\n",
    "    self.epsilon = epsilon\n",
    "    self.learning_rate = learning_rate\n",
    "    self.discount_factor = discount_factor\n",
    "\n",
    "  def learn(self, n_epochs: int, eval_freq: int, num_eval_episodes: int):\n",
    "    self.playroom.reset()\n",
    "    done = False\n",
    "\n",
    "    for epoch in range(n_epochs):\n",
    "      action = self._determine_action(deterministic = False)\n",
    "      state_action_code = f'{self.playroom.game_state_code}-{action}'\n",
    "\n",
    "      if state_action_code not in self.Q_table.keys():\n",
    "        self.Q_table[state_action_code] = 0\n",
    "\n",
    "      _, reward, done, _, _ = self.playroom.step(action = action)\n",
    "      \n",
    "      if done:\n",
    "        self.playroom.reset()\n",
    "        self.Q_table[state_action_code] = (1 - self.learning_rate) * self.Q_table[state_action_code] + self.learning_rate * (reward)\n",
    "      \n",
    "      else:\n",
    "        next_optimal_state_action_code = f'{self.playroom.game_state_code}-{self._determine_action(deterministic = True)}'\n",
    "\n",
    "        if next_optimal_state_action_code not in self.Q_table.keys():\n",
    "          self.Q_table[next_optimal_state_action_code] = 0\n",
    "\n",
    "        self.Q_table[state_action_code] = (1 - self.learning_rate) * self.Q_table[state_action_code] + self.learning_rate * (reward + self.discount_factor * self.Q_table[next_optimal_state_action_code])\n",
    "\n",
    "      if (epoch + 1) % eval_freq == 0:\n",
    "        print(f'Evaluate {epoch + 1}/{n_epochs}: {self._evaluate(num_eval_episodes = num_eval_episodes)}')\n",
    "        self.playroom.reset()\n",
    "\n",
    "\n",
    "  def _determine_action(self, deterministic):\n",
    "    if random.random() < self.epsilon and not deterministic:\n",
    "      return random.choice(self.playroom.possible_actions)\n",
    "    \n",
    "    state_code = self.playroom.game_state_code\n",
    "    state_q_values = {k: v for k, v in self.Q_table.items() if state_code in k}\n",
    "\n",
    "    if len(state_q_values) == 0:\n",
    "      return random.choice(self.playroom.possible_actions)\n",
    "    \n",
    "    max_state_action = max(state_q_values, key = state_q_values.get)\n",
    "    return int(max_state_action.split('-')[-1])\n",
    "  \n",
    "  def _evaluate(self, num_eval_episodes: int):\n",
    "    total_reward = 0\n",
    "    for _ in range(num_eval_episodes):\n",
    "      self.playroom.reset()\n",
    "      done = False\n",
    "      while not done:\n",
    "        _, reward, done, _, _ = self.playroom.step(action = self._determine_action(deterministic = True))\n",
    "      total_reward += reward\n",
    "    return total_reward / num_eval_episodes"
   ]
  },
  {
   "cell_type": "code",
   "execution_count": 8,
   "id": "d771313f",
   "metadata": {},
   "outputs": [
    {
     "name": "stdout",
     "output_type": "stream",
     "text": [
      "Evaluate 5000/50000: -0.18\n",
      "Evaluate 10000/50000: 0.08\n",
      "Evaluate 15000/50000: 0.12\n",
      "Evaluate 20000/50000: 0.4\n",
      "Evaluate 25000/50000: 0.28\n",
      "Evaluate 30000/50000: 0.18\n",
      "Evaluate 35000/50000: 0.52\n",
      "Evaluate 40000/50000: 0.3\n",
      "Evaluate 45000/50000: 0.32\n",
      "Evaluate 50000/50000: 0.64\n"
     ]
    }
   ],
   "source": [
    "q_learing = QLearning(learning_rate = 0.9, discount_factor = 0.9, epsilon = 0.5)\n",
    "q_learing.learn(50_000, eval_freq = 5_000, num_eval_episodes = 100)"
   ]
  }
 ],
 "metadata": {
  "kernelspec": {
   "display_name": "Python 3",
   "language": "python",
   "name": "python3"
  },
  "language_info": {
   "codemirror_mode": {
    "name": "ipython",
    "version": 3
   },
   "file_extension": ".py",
   "mimetype": "text/x-python",
   "name": "python",
   "nbconvert_exporter": "python",
   "pygments_lexer": "ipython3",
   "version": "3.10.4"
  }
 },
 "nbformat": 4,
 "nbformat_minor": 5
}
