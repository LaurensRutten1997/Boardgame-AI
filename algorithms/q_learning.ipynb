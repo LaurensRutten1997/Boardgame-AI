{
 "cells": [
  {
   "cell_type": "markdown",
   "id": "1dbf4311",
   "metadata": {},
   "source": [
    "# Q-Learning"
   ]
  },
  {
   "cell_type": "code",
   "execution_count": 1,
   "id": "cdfcf4b4",
   "metadata": {},
   "outputs": [],
   "source": [
    "import os\n",
    "import random\n",
    "import sys\n",
    "\n",
    "cwd = os.getcwd()\n",
    "\n",
    "parentdir = os.path.dirname(cwd)\n",
    "sys.path.insert(0, parentdir)\n",
    "\n",
    "from environments.tic_tac_toe.tic_tac_toe import TicTacToe\n",
    "from environments.game import PlayRoom"
   ]
  },
  {
   "cell_type": "code",
   "execution_count": 2,
   "id": "27f2aece",
   "metadata": {},
   "outputs": [],
   "source": [
    "playroom = PlayRoom(game = TicTacToe())\n",
    "\n",
    "class Transistion():\n",
    "  def __init__(self, state_code: str, action: int, reward: int, next_state: str):\n",
    "    self.state_code = state_code\n",
    "    self.action = action\n",
    "    self.next_state = next_state\n",
    "    self.reward = reward"
   ]
  },
  {
   "cell_type": "code",
   "execution_count": null,
   "id": "4a58a7e8",
   "metadata": {},
   "outputs": [],
   "source": [
    "Q_table = {}\n",
    "learning_rate = 0.9\n",
    "discount_factor = 0.9\n",
    "epsilon = 0.2\n",
    "epochs = 50_000"
   ]
  },
  {
   "cell_type": "code",
   "execution_count": 5,
   "id": "110f4dc4",
   "metadata": {},
   "outputs": [
    {
     "data": {
      "text/plain": [
       "50000"
      ]
     },
     "execution_count": 5,
     "metadata": {},
     "output_type": "execute_result"
    }
   ],
   "source": [
    "transitions = []\n",
    "\n",
    "obs, info = playroom.reset()\n",
    "\n",
    "for epoch in range(epochs):\n",
    "  state_code = playroom.game_state_code\n",
    "  action = random.choice(playroom.possible_actions)\n",
    "  obs, reward, terminated, truncated, info = playroom.step(action)\n",
    "  next_state_code = playroom.game_state_code\n",
    "\n",
    "  transition = Transistion(state_code, action, reward, next_state_code)\n",
    "  transitions.append(transition)\n",
    "\n",
    "  if terminated or truncated:\n",
    "    obs, info = playroom.reset()\n",
    "\n",
    "len(transitions)"
   ]
  }
 ],
 "metadata": {
  "kernelspec": {
   "display_name": "Python 3",
   "language": "python",
   "name": "python3"
  },
  "language_info": {
   "codemirror_mode": {
    "name": "ipython",
    "version": 3
   },
   "file_extension": ".py",
   "mimetype": "text/x-python",
   "name": "python",
   "nbconvert_exporter": "python",
   "pygments_lexer": "ipython3",
   "version": "3.10.4"
  }
 },
 "nbformat": 4,
 "nbformat_minor": 5
}
